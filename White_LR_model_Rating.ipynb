{
 "cells": [
  {
   "cell_type": "code",
   "execution_count": 45,
   "metadata": {},
   "outputs": [
    {
     "data": {
      "text/html": [
       "<div>\n",
       "<style scoped>\n",
       "    .dataframe tbody tr th:only-of-type {\n",
       "        vertical-align: middle;\n",
       "    }\n",
       "\n",
       "    .dataframe tbody tr th {\n",
       "        vertical-align: top;\n",
       "    }\n",
       "\n",
       "    .dataframe thead th {\n",
       "        text-align: right;\n",
       "    }\n",
       "</style>\n",
       "<table border=\"1\" class=\"dataframe\">\n",
       "  <thead>\n",
       "    <tr style=\"text-align: right;\">\n",
       "      <th></th>\n",
       "      <th>Name</th>\n",
       "      <th>Country</th>\n",
       "      <th>Region</th>\n",
       "      <th>Winery</th>\n",
       "      <th>Rating</th>\n",
       "      <th>Price</th>\n",
       "      <th>Year</th>\n",
       "    </tr>\n",
       "  </thead>\n",
       "  <tbody>\n",
       "    <tr>\n",
       "      <th>0</th>\n",
       "      <td>Vermentino 2017</td>\n",
       "      <td>Italy</td>\n",
       "      <td>Toscana</td>\n",
       "      <td>Famiglia Castellani</td>\n",
       "      <td>3.8</td>\n",
       "      <td>5.65</td>\n",
       "      <td>2017</td>\n",
       "    </tr>\n",
       "    <tr>\n",
       "      <th>1</th>\n",
       "      <td>Ronco Broilo 2010</td>\n",
       "      <td>Italy</td>\n",
       "      <td>Colli Orientali del Friuli</td>\n",
       "      <td>Conte d'Attimis Maniago</td>\n",
       "      <td>4.3</td>\n",
       "      <td>44.90</td>\n",
       "      <td>2010</td>\n",
       "    </tr>\n",
       "    <tr>\n",
       "      <th>2</th>\n",
       "      <td>Weisser Schiefer s 2017</td>\n",
       "      <td>Austria</td>\n",
       "      <td>Südburgenland</td>\n",
       "      <td>Weinbau Uwe Schiefer</td>\n",
       "      <td>4.2</td>\n",
       "      <td>33.25</td>\n",
       "      <td>2017</td>\n",
       "    </tr>\n",
       "    <tr>\n",
       "      <th>3</th>\n",
       "      <td>Chardonnay 2018</td>\n",
       "      <td>Germany</td>\n",
       "      <td>Rheinhessen</td>\n",
       "      <td>Krämer - Straight</td>\n",
       "      <td>3.9</td>\n",
       "      <td>8.99</td>\n",
       "      <td>2018</td>\n",
       "    </tr>\n",
       "    <tr>\n",
       "      <th>4</th>\n",
       "      <td>Maganza Zibibbo 2018</td>\n",
       "      <td>Italy</td>\n",
       "      <td>Terre Siciliane</td>\n",
       "      <td>Luna Gaia</td>\n",
       "      <td>3.9</td>\n",
       "      <td>8.60</td>\n",
       "      <td>2018</td>\n",
       "    </tr>\n",
       "    <tr>\n",
       "      <th>...</th>\n",
       "      <td>...</td>\n",
       "      <td>...</td>\n",
       "      <td>...</td>\n",
       "      <td>...</td>\n",
       "      <td>...</td>\n",
       "      <td>...</td>\n",
       "      <td>...</td>\n",
       "    </tr>\n",
       "    <tr>\n",
       "      <th>3754</th>\n",
       "      <td>Private Bin Sauvignon Blanc 2019</td>\n",
       "      <td>New Zealand</td>\n",
       "      <td>Marlborough</td>\n",
       "      <td>Villa Maria</td>\n",
       "      <td>4.1</td>\n",
       "      <td>10.60</td>\n",
       "      <td>2019</td>\n",
       "    </tr>\n",
       "    <tr>\n",
       "      <th>3755</th>\n",
       "      <td>Blanco (Verdejo) 2018</td>\n",
       "      <td>Spain</td>\n",
       "      <td>Rueda</td>\n",
       "      <td>Marqués de Riscal</td>\n",
       "      <td>3.7</td>\n",
       "      <td>6.30</td>\n",
       "      <td>2018</td>\n",
       "    </tr>\n",
       "    <tr>\n",
       "      <th>3756</th>\n",
       "      <td>Sauvignon Blanc 2019</td>\n",
       "      <td>New Zealand</td>\n",
       "      <td>Marlborough</td>\n",
       "      <td>Oyster Bay</td>\n",
       "      <td>4.0</td>\n",
       "      <td>10.66</td>\n",
       "      <td>2019</td>\n",
       "    </tr>\n",
       "    <tr>\n",
       "      <th>3757</th>\n",
       "      <td>Sauvignon Blanc 2018</td>\n",
       "      <td>New Zealand</td>\n",
       "      <td>Marlborough</td>\n",
       "      <td>Kim Crawford</td>\n",
       "      <td>3.9</td>\n",
       "      <td>14.90</td>\n",
       "      <td>2018</td>\n",
       "    </tr>\n",
       "    <tr>\n",
       "      <th>3758</th>\n",
       "      <td>Sauvignon Blanc 2019</td>\n",
       "      <td>New Zealand</td>\n",
       "      <td>Marlborough</td>\n",
       "      <td>Hans Greyl</td>\n",
       "      <td>4.2</td>\n",
       "      <td>7.75</td>\n",
       "      <td>2019</td>\n",
       "    </tr>\n",
       "  </tbody>\n",
       "</table>\n",
       "<p>3759 rows × 7 columns</p>\n",
       "</div>"
      ],
      "text/plain": [
       "                                  Name      Country  \\\n",
       "0                      Vermentino 2017        Italy   \n",
       "1                    Ronco Broilo 2010        Italy   \n",
       "2              Weisser Schiefer s 2017      Austria   \n",
       "3                      Chardonnay 2018      Germany   \n",
       "4                 Maganza Zibibbo 2018        Italy   \n",
       "...                                ...          ...   \n",
       "3754  Private Bin Sauvignon Blanc 2019  New Zealand   \n",
       "3755             Blanco (Verdejo) 2018        Spain   \n",
       "3756              Sauvignon Blanc 2019  New Zealand   \n",
       "3757              Sauvignon Blanc 2018  New Zealand   \n",
       "3758              Sauvignon Blanc 2019  New Zealand   \n",
       "\n",
       "                          Region                   Winery  Rating  Price  Year  \n",
       "0                        Toscana      Famiglia Castellani     3.8   5.65  2017  \n",
       "1     Colli Orientali del Friuli  Conte d'Attimis Maniago     4.3  44.90  2010  \n",
       "2                  Südburgenland     Weinbau Uwe Schiefer     4.2  33.25  2017  \n",
       "3                    Rheinhessen        Krämer - Straight     3.9   8.99  2018  \n",
       "4                Terre Siciliane                Luna Gaia     3.9   8.60  2018  \n",
       "...                          ...                      ...     ...    ...   ...  \n",
       "3754                 Marlborough              Villa Maria     4.1  10.60  2019  \n",
       "3755                       Rueda        Marqués de Riscal     3.7   6.30  2018  \n",
       "3756                 Marlborough               Oyster Bay     4.0  10.66  2019  \n",
       "3757                 Marlborough             Kim Crawford     3.9  14.90  2018  \n",
       "3758                 Marlborough               Hans Greyl     4.2   7.75  2019  \n",
       "\n",
       "[3759 rows x 7 columns]"
      ]
     },
     "execution_count": 45,
     "metadata": {},
     "output_type": "execute_result"
    }
   ],
   "source": [
    "import pandas as pd\n",
    "import sqlite3\n",
    "query = 'SELECT * FROM white_wine'\n",
    "conn = sqlite3.connect('wine_database.db')\n",
    "cursor = conn.cursor()\n",
    "df = pd.read_sql_query(query, conn)\n",
    "df['Name'] = df['Name'].str.encode('iso-8859-1').str.decode('utf-8')\n",
    "df['Region'] = df['Region'].str.encode('iso-8859-1').str.decode('utf-8')\n",
    "df['Winery'] = df['Winery'].str.encode('iso-8859-1').str.decode('utf-8')\n",
    "df"
   ]
  },
  {
   "cell_type": "code",
   "execution_count": 39,
   "metadata": {},
   "outputs": [],
   "source": [
    "df.to_csv('scraped_White.csv', index=False)"
   ]
  },
  {
   "cell_type": "code",
   "execution_count": 40,
   "metadata": {},
   "outputs": [],
   "source": [
    "\n",
    "Counrty_dummies = pd.get_dummies(df[\"Country\"])\n",
    "Region_dummies = pd.get_dummies(df[\"Region\"])\n",
    "Winery_dummies = pd.get_dummies(df[\"Winery\"])\n",
    "empty_df = df.drop(columns=[\"Name\", \"Country\", \"Region\", \"Winery\"])"
   ]
  },
  {
   "cell_type": "code",
   "execution_count": 24,
   "metadata": {},
   "outputs": [
    {
     "data": {
      "text/html": [
       "<div>\n",
       "<style scoped>\n",
       "    .dataframe tbody tr th:only-of-type {\n",
       "        vertical-align: middle;\n",
       "    }\n",
       "\n",
       "    .dataframe tbody tr th {\n",
       "        vertical-align: top;\n",
       "    }\n",
       "\n",
       "    .dataframe thead th {\n",
       "        text-align: right;\n",
       "    }\n",
       "</style>\n",
       "<table border=\"1\" class=\"dataframe\">\n",
       "  <thead>\n",
       "    <tr style=\"text-align: right;\">\n",
       "      <th></th>\n",
       "      <th>Rating</th>\n",
       "      <th>Price</th>\n",
       "      <th>Year</th>\n",
       "      <th>'Rosso &amp; Bianco' Chardonnay 2016</th>\n",
       "      <th>'Rosso &amp; Bianco' Chardonnay 2017</th>\n",
       "      <th>1000-Eimerberg Riesling Federspiel 2018</th>\n",
       "      <th>1000-Eimerberg Smaragd Riesling 2018</th>\n",
       "      <th>101 Rangs Pouilly-Fumé 2016</th>\n",
       "      <th>101 Riesling 2018</th>\n",
       "      <th>12 e Mezzo Malvasia del Salento 2019</th>\n",
       "      <th>...</th>\n",
       "      <th>Ziereisen</th>\n",
       "      <th>Zonin</th>\n",
       "      <th>Zonnebloem</th>\n",
       "      <th>Zýmē</th>\n",
       "      <th>d'Arenberg</th>\n",
       "      <th>de Ladoucette</th>\n",
       "      <th>di Lenardo</th>\n",
       "      <th>Álvarez y Díez</th>\n",
       "      <th>Ökonomierat Rebholz</th>\n",
       "      <th>Κτημα Τσελεπου (Ktima Tselepos)</th>\n",
       "    </tr>\n",
       "  </thead>\n",
       "  <tbody>\n",
       "    <tr>\n",
       "      <th>0</th>\n",
       "      <td>3.8</td>\n",
       "      <td>5.65</td>\n",
       "      <td>2017</td>\n",
       "      <td>0</td>\n",
       "      <td>0</td>\n",
       "      <td>0</td>\n",
       "      <td>0</td>\n",
       "      <td>0</td>\n",
       "      <td>0</td>\n",
       "      <td>0</td>\n",
       "      <td>...</td>\n",
       "      <td>0</td>\n",
       "      <td>0</td>\n",
       "      <td>0</td>\n",
       "      <td>0</td>\n",
       "      <td>0</td>\n",
       "      <td>0</td>\n",
       "      <td>0</td>\n",
       "      <td>0</td>\n",
       "      <td>0</td>\n",
       "      <td>0</td>\n",
       "    </tr>\n",
       "    <tr>\n",
       "      <th>1</th>\n",
       "      <td>4.3</td>\n",
       "      <td>44.90</td>\n",
       "      <td>2010</td>\n",
       "      <td>0</td>\n",
       "      <td>0</td>\n",
       "      <td>0</td>\n",
       "      <td>0</td>\n",
       "      <td>0</td>\n",
       "      <td>0</td>\n",
       "      <td>0</td>\n",
       "      <td>...</td>\n",
       "      <td>0</td>\n",
       "      <td>0</td>\n",
       "      <td>0</td>\n",
       "      <td>0</td>\n",
       "      <td>0</td>\n",
       "      <td>0</td>\n",
       "      <td>0</td>\n",
       "      <td>0</td>\n",
       "      <td>0</td>\n",
       "      <td>0</td>\n",
       "    </tr>\n",
       "    <tr>\n",
       "      <th>2</th>\n",
       "      <td>4.2</td>\n",
       "      <td>33.25</td>\n",
       "      <td>2017</td>\n",
       "      <td>0</td>\n",
       "      <td>0</td>\n",
       "      <td>0</td>\n",
       "      <td>0</td>\n",
       "      <td>0</td>\n",
       "      <td>0</td>\n",
       "      <td>0</td>\n",
       "      <td>...</td>\n",
       "      <td>0</td>\n",
       "      <td>0</td>\n",
       "      <td>0</td>\n",
       "      <td>0</td>\n",
       "      <td>0</td>\n",
       "      <td>0</td>\n",
       "      <td>0</td>\n",
       "      <td>0</td>\n",
       "      <td>0</td>\n",
       "      <td>0</td>\n",
       "    </tr>\n",
       "    <tr>\n",
       "      <th>3</th>\n",
       "      <td>3.9</td>\n",
       "      <td>8.99</td>\n",
       "      <td>2018</td>\n",
       "      <td>0</td>\n",
       "      <td>0</td>\n",
       "      <td>0</td>\n",
       "      <td>0</td>\n",
       "      <td>0</td>\n",
       "      <td>0</td>\n",
       "      <td>0</td>\n",
       "      <td>...</td>\n",
       "      <td>0</td>\n",
       "      <td>0</td>\n",
       "      <td>0</td>\n",
       "      <td>0</td>\n",
       "      <td>0</td>\n",
       "      <td>0</td>\n",
       "      <td>0</td>\n",
       "      <td>0</td>\n",
       "      <td>0</td>\n",
       "      <td>0</td>\n",
       "    </tr>\n",
       "    <tr>\n",
       "      <th>4</th>\n",
       "      <td>3.9</td>\n",
       "      <td>8.60</td>\n",
       "      <td>2018</td>\n",
       "      <td>0</td>\n",
       "      <td>0</td>\n",
       "      <td>0</td>\n",
       "      <td>0</td>\n",
       "      <td>0</td>\n",
       "      <td>0</td>\n",
       "      <td>0</td>\n",
       "      <td>...</td>\n",
       "      <td>0</td>\n",
       "      <td>0</td>\n",
       "      <td>0</td>\n",
       "      <td>0</td>\n",
       "      <td>0</td>\n",
       "      <td>0</td>\n",
       "      <td>0</td>\n",
       "      <td>0</td>\n",
       "      <td>0</td>\n",
       "      <td>0</td>\n",
       "    </tr>\n",
       "  </tbody>\n",
       "</table>\n",
       "<p>5 rows × 4933 columns</p>\n",
       "</div>"
      ],
      "text/plain": [
       "   Rating  Price  Year  'Rosso & Bianco' Chardonnay 2016  \\\n",
       "0     3.8   5.65  2017                                 0   \n",
       "1     4.3  44.90  2010                                 0   \n",
       "2     4.2  33.25  2017                                 0   \n",
       "3     3.9   8.99  2018                                 0   \n",
       "4     3.9   8.60  2018                                 0   \n",
       "\n",
       "   'Rosso & Bianco' Chardonnay 2017  1000-Eimerberg Riesling Federspiel 2018  \\\n",
       "0                                 0                                        0   \n",
       "1                                 0                                        0   \n",
       "2                                 0                                        0   \n",
       "3                                 0                                        0   \n",
       "4                                 0                                        0   \n",
       "\n",
       "   1000-Eimerberg Smaragd Riesling 2018  101 Rangs Pouilly-Fumé 2016  \\\n",
       "0                                     0                            0   \n",
       "1                                     0                            0   \n",
       "2                                     0                            0   \n",
       "3                                     0                            0   \n",
       "4                                     0                            0   \n",
       "\n",
       "   101 Riesling 2018  12 e Mezzo Malvasia del Salento 2019  ...  Ziereisen  \\\n",
       "0                  0                                     0  ...          0   \n",
       "1                  0                                     0  ...          0   \n",
       "2                  0                                     0  ...          0   \n",
       "3                  0                                     0  ...          0   \n",
       "4                  0                                     0  ...          0   \n",
       "\n",
       "   Zonin  Zonnebloem  Zýmē  d'Arenberg  de Ladoucette  di Lenardo  \\\n",
       "0      0           0     0           0              0           0   \n",
       "1      0           0     0           0              0           0   \n",
       "2      0           0     0           0              0           0   \n",
       "3      0           0     0           0              0           0   \n",
       "4      0           0     0           0              0           0   \n",
       "\n",
       "   Álvarez y Díez  Ökonomierat Rebholz  Κτημα Τσελεπου (Ktima Tselepos)  \n",
       "0               0                    0                                0  \n",
       "1               0                    0                                0  \n",
       "2               0                    0                                0  \n",
       "3               0                    0                                0  \n",
       "4               0                    0                                0  \n",
       "\n",
       "[5 rows x 4933 columns]"
      ]
     },
     "execution_count": 24,
     "metadata": {},
     "output_type": "execute_result"
    }
   ],
   "source": [
    "df_scaled = pd.concat([empty_df, Region_dummies, Counrty_dummies, Winery_dummies], axis =1)\n",
    "df_scaled.head()"
   ]
  },
  {
   "cell_type": "code",
   "execution_count": 25,
   "metadata": {},
   "outputs": [],
   "source": [
    "from sklearn.linear_model import LinearRegression\n",
    "model = LinearRegression()\n"
   ]
  },
  {
   "cell_type": "code",
   "execution_count": 26,
   "metadata": {},
   "outputs": [],
   "source": [
    "from sklearn.model_selection import train_test_split\n",
    "X = df_scaled.drop(columns=\"Rating\")\n",
    "y = df_scaled[\"Rating\"]\n",
    "\n",
    "X_train, X_test, y_train, y_test = train_test_split(X, y, random_state=1)"
   ]
  },
  {
   "cell_type": "code",
   "execution_count": 27,
   "metadata": {},
   "outputs": [
    {
     "data": {
      "text/html": [
       "<style>#sk-container-id-3 {color: black;}#sk-container-id-3 pre{padding: 0;}#sk-container-id-3 div.sk-toggleable {background-color: white;}#sk-container-id-3 label.sk-toggleable__label {cursor: pointer;display: block;width: 100%;margin-bottom: 0;padding: 0.3em;box-sizing: border-box;text-align: center;}#sk-container-id-3 label.sk-toggleable__label-arrow:before {content: \"▸\";float: left;margin-right: 0.25em;color: #696969;}#sk-container-id-3 label.sk-toggleable__label-arrow:hover:before {color: black;}#sk-container-id-3 div.sk-estimator:hover label.sk-toggleable__label-arrow:before {color: black;}#sk-container-id-3 div.sk-toggleable__content {max-height: 0;max-width: 0;overflow: hidden;text-align: left;background-color: #f0f8ff;}#sk-container-id-3 div.sk-toggleable__content pre {margin: 0.2em;color: black;border-radius: 0.25em;background-color: #f0f8ff;}#sk-container-id-3 input.sk-toggleable__control:checked~div.sk-toggleable__content {max-height: 200px;max-width: 100%;overflow: auto;}#sk-container-id-3 input.sk-toggleable__control:checked~label.sk-toggleable__label-arrow:before {content: \"▾\";}#sk-container-id-3 div.sk-estimator input.sk-toggleable__control:checked~label.sk-toggleable__label {background-color: #d4ebff;}#sk-container-id-3 div.sk-label input.sk-toggleable__control:checked~label.sk-toggleable__label {background-color: #d4ebff;}#sk-container-id-3 input.sk-hidden--visually {border: 0;clip: rect(1px 1px 1px 1px);clip: rect(1px, 1px, 1px, 1px);height: 1px;margin: -1px;overflow: hidden;padding: 0;position: absolute;width: 1px;}#sk-container-id-3 div.sk-estimator {font-family: monospace;background-color: #f0f8ff;border: 1px dotted black;border-radius: 0.25em;box-sizing: border-box;margin-bottom: 0.5em;}#sk-container-id-3 div.sk-estimator:hover {background-color: #d4ebff;}#sk-container-id-3 div.sk-parallel-item::after {content: \"\";width: 100%;border-bottom: 1px solid gray;flex-grow: 1;}#sk-container-id-3 div.sk-label:hover label.sk-toggleable__label {background-color: #d4ebff;}#sk-container-id-3 div.sk-serial::before {content: \"\";position: absolute;border-left: 1px solid gray;box-sizing: border-box;top: 0;bottom: 0;left: 50%;z-index: 0;}#sk-container-id-3 div.sk-serial {display: flex;flex-direction: column;align-items: center;background-color: white;padding-right: 0.2em;padding-left: 0.2em;position: relative;}#sk-container-id-3 div.sk-item {position: relative;z-index: 1;}#sk-container-id-3 div.sk-parallel {display: flex;align-items: stretch;justify-content: center;background-color: white;position: relative;}#sk-container-id-3 div.sk-item::before, #sk-container-id-3 div.sk-parallel-item::before {content: \"\";position: absolute;border-left: 1px solid gray;box-sizing: border-box;top: 0;bottom: 0;left: 50%;z-index: -1;}#sk-container-id-3 div.sk-parallel-item {display: flex;flex-direction: column;z-index: 1;position: relative;background-color: white;}#sk-container-id-3 div.sk-parallel-item:first-child::after {align-self: flex-end;width: 50%;}#sk-container-id-3 div.sk-parallel-item:last-child::after {align-self: flex-start;width: 50%;}#sk-container-id-3 div.sk-parallel-item:only-child::after {width: 0;}#sk-container-id-3 div.sk-dashed-wrapped {border: 1px dashed gray;margin: 0 0.4em 0.5em 0.4em;box-sizing: border-box;padding-bottom: 0.4em;background-color: white;}#sk-container-id-3 div.sk-label label {font-family: monospace;font-weight: bold;display: inline-block;line-height: 1.2em;}#sk-container-id-3 div.sk-label-container {text-align: center;}#sk-container-id-3 div.sk-container {/* jupyter's `normalize.less` sets `[hidden] { display: none; }` but bootstrap.min.css set `[hidden] { display: none !important; }` so we also need the `!important` here to be able to override the default hidden behavior on the sphinx rendered scikit-learn.org. See: https://github.com/scikit-learn/scikit-learn/issues/21755 */display: inline-block !important;position: relative;}#sk-container-id-3 div.sk-text-repr-fallback {display: none;}</style><div id=\"sk-container-id-3\" class=\"sk-top-container\"><div class=\"sk-text-repr-fallback\"><pre>LinearRegression()</pre><b>In a Jupyter environment, please rerun this cell to show the HTML representation or trust the notebook. <br />On GitHub, the HTML representation is unable to render, please try loading this page with nbviewer.org.</b></div><div class=\"sk-container\" hidden><div class=\"sk-item\"><div class=\"sk-estimator sk-toggleable\"><input class=\"sk-toggleable__control sk-hidden--visually\" id=\"sk-estimator-id-3\" type=\"checkbox\" checked><label for=\"sk-estimator-id-3\" class=\"sk-toggleable__label sk-toggleable__label-arrow\">LinearRegression</label><div class=\"sk-toggleable__content\"><pre>LinearRegression()</pre></div></div></div></div></div>"
      ],
      "text/plain": [
       "LinearRegression()"
      ]
     },
     "execution_count": 27,
     "metadata": {},
     "output_type": "execute_result"
    }
   ],
   "source": [
    "model.fit(X, y)"
   ]
  },
  {
   "cell_type": "code",
   "execution_count": 28,
   "metadata": {},
   "outputs": [
    {
     "data": {
      "text/html": [
       "<style>#sk-container-id-4 {color: black;}#sk-container-id-4 pre{padding: 0;}#sk-container-id-4 div.sk-toggleable {background-color: white;}#sk-container-id-4 label.sk-toggleable__label {cursor: pointer;display: block;width: 100%;margin-bottom: 0;padding: 0.3em;box-sizing: border-box;text-align: center;}#sk-container-id-4 label.sk-toggleable__label-arrow:before {content: \"▸\";float: left;margin-right: 0.25em;color: #696969;}#sk-container-id-4 label.sk-toggleable__label-arrow:hover:before {color: black;}#sk-container-id-4 div.sk-estimator:hover label.sk-toggleable__label-arrow:before {color: black;}#sk-container-id-4 div.sk-toggleable__content {max-height: 0;max-width: 0;overflow: hidden;text-align: left;background-color: #f0f8ff;}#sk-container-id-4 div.sk-toggleable__content pre {margin: 0.2em;color: black;border-radius: 0.25em;background-color: #f0f8ff;}#sk-container-id-4 input.sk-toggleable__control:checked~div.sk-toggleable__content {max-height: 200px;max-width: 100%;overflow: auto;}#sk-container-id-4 input.sk-toggleable__control:checked~label.sk-toggleable__label-arrow:before {content: \"▾\";}#sk-container-id-4 div.sk-estimator input.sk-toggleable__control:checked~label.sk-toggleable__label {background-color: #d4ebff;}#sk-container-id-4 div.sk-label input.sk-toggleable__control:checked~label.sk-toggleable__label {background-color: #d4ebff;}#sk-container-id-4 input.sk-hidden--visually {border: 0;clip: rect(1px 1px 1px 1px);clip: rect(1px, 1px, 1px, 1px);height: 1px;margin: -1px;overflow: hidden;padding: 0;position: absolute;width: 1px;}#sk-container-id-4 div.sk-estimator {font-family: monospace;background-color: #f0f8ff;border: 1px dotted black;border-radius: 0.25em;box-sizing: border-box;margin-bottom: 0.5em;}#sk-container-id-4 div.sk-estimator:hover {background-color: #d4ebff;}#sk-container-id-4 div.sk-parallel-item::after {content: \"\";width: 100%;border-bottom: 1px solid gray;flex-grow: 1;}#sk-container-id-4 div.sk-label:hover label.sk-toggleable__label {background-color: #d4ebff;}#sk-container-id-4 div.sk-serial::before {content: \"\";position: absolute;border-left: 1px solid gray;box-sizing: border-box;top: 0;bottom: 0;left: 50%;z-index: 0;}#sk-container-id-4 div.sk-serial {display: flex;flex-direction: column;align-items: center;background-color: white;padding-right: 0.2em;padding-left: 0.2em;position: relative;}#sk-container-id-4 div.sk-item {position: relative;z-index: 1;}#sk-container-id-4 div.sk-parallel {display: flex;align-items: stretch;justify-content: center;background-color: white;position: relative;}#sk-container-id-4 div.sk-item::before, #sk-container-id-4 div.sk-parallel-item::before {content: \"\";position: absolute;border-left: 1px solid gray;box-sizing: border-box;top: 0;bottom: 0;left: 50%;z-index: -1;}#sk-container-id-4 div.sk-parallel-item {display: flex;flex-direction: column;z-index: 1;position: relative;background-color: white;}#sk-container-id-4 div.sk-parallel-item:first-child::after {align-self: flex-end;width: 50%;}#sk-container-id-4 div.sk-parallel-item:last-child::after {align-self: flex-start;width: 50%;}#sk-container-id-4 div.sk-parallel-item:only-child::after {width: 0;}#sk-container-id-4 div.sk-dashed-wrapped {border: 1px dashed gray;margin: 0 0.4em 0.5em 0.4em;box-sizing: border-box;padding-bottom: 0.4em;background-color: white;}#sk-container-id-4 div.sk-label label {font-family: monospace;font-weight: bold;display: inline-block;line-height: 1.2em;}#sk-container-id-4 div.sk-label-container {text-align: center;}#sk-container-id-4 div.sk-container {/* jupyter's `normalize.less` sets `[hidden] { display: none; }` but bootstrap.min.css set `[hidden] { display: none !important; }` so we also need the `!important` here to be able to override the default hidden behavior on the sphinx rendered scikit-learn.org. See: https://github.com/scikit-learn/scikit-learn/issues/21755 */display: inline-block !important;position: relative;}#sk-container-id-4 div.sk-text-repr-fallback {display: none;}</style><div id=\"sk-container-id-4\" class=\"sk-top-container\"><div class=\"sk-text-repr-fallback\"><pre>LinearRegression()</pre><b>In a Jupyter environment, please rerun this cell to show the HTML representation or trust the notebook. <br />On GitHub, the HTML representation is unable to render, please try loading this page with nbviewer.org.</b></div><div class=\"sk-container\" hidden><div class=\"sk-item\"><div class=\"sk-estimator sk-toggleable\"><input class=\"sk-toggleable__control sk-hidden--visually\" id=\"sk-estimator-id-4\" type=\"checkbox\" checked><label for=\"sk-estimator-id-4\" class=\"sk-toggleable__label sk-toggleable__label-arrow\">LinearRegression</label><div class=\"sk-toggleable__content\"><pre>LinearRegression()</pre></div></div></div></div></div>"
      ],
      "text/plain": [
       "LinearRegression()"
      ]
     },
     "execution_count": 28,
     "metadata": {},
     "output_type": "execute_result"
    }
   ],
   "source": [
    "LinearRegression()"
   ]
  },
  {
   "cell_type": "code",
   "execution_count": 29,
   "metadata": {},
   "outputs": [],
   "source": [
    "predicted_y_values = model.predict(X)"
   ]
  },
  {
   "cell_type": "code",
   "execution_count": 30,
   "metadata": {},
   "outputs": [],
   "source": [
    "copy_df = df.copy()"
   ]
  },
  {
   "cell_type": "code",
   "execution_count": 31,
   "metadata": {},
   "outputs": [
    {
     "name": "stdout",
     "output_type": "stream",
     "text": [
      "The score is 0.9831345267241066.\n",
      "The r2 is 0.9831345267241066.\n",
      "The mean squared error is 0.0011834220150141173.\n",
      "The root mean squared error is 0.03440090136921004.\n",
      "The standard deviation is 0.26489304500357924.\n"
     ]
    }
   ],
   "source": [
    "from sklearn.metrics import mean_squared_error, r2_score\n",
    "import numpy as np\n",
    "score = model.score(X, y, sample_weight=None)\n",
    "r2 = r2_score(y, predicted_y_values)\n",
    "mse = mean_squared_error(y, predicted_y_values)\n",
    "rmse = np.sqrt(mse)\n",
    "std = np.std(y)\n",
    "\n",
    "# Print releveant metrics.\n",
    "print(f\"The score is {score}.\")\n",
    "print(f\"The r2 is {r2}.\")\n",
    "print(f\"The mean squared error is {mse}.\")\n",
    "print(f\"The root mean squared error is {rmse}.\")\n",
    "print(f\"The standard deviation is {std}.\")"
   ]
  },
  {
   "cell_type": "code",
   "execution_count": 32,
   "metadata": {},
   "outputs": [
    {
     "data": {
      "text/plain": [
       "Region\n",
       "Abona               3.900000\n",
       "Abruzzo             4.000000\n",
       "Achaia              3.500000\n",
       "Aconcagua Costa     4.000000\n",
       "Aconcagua Valley    3.741667\n",
       "                      ...   \n",
       "Zeltingen           4.300000\n",
       "Zürich              3.900000\n",
       "d Minis             3.700000\n",
       "delle Venezie       3.672727\n",
       "Štajerska           3.900000\n",
       "Name: Rating, Length: 456, dtype: float64"
      ]
     },
     "execution_count": 32,
     "metadata": {},
     "output_type": "execute_result"
    }
   ],
   "source": [
    "Region_ratings = df.groupby(\"Region\")[\"Rating\"].mean()\n",
    "Region_ratings"
   ]
  },
  {
   "cell_type": "code",
   "execution_count": 33,
   "metadata": {},
   "outputs": [],
   "source": [
    "Year_ratings = df.groupby(\"Year\")[\"Rating\"].mean()"
   ]
  },
  {
   "cell_type": "code",
   "execution_count": 34,
   "metadata": {},
   "outputs": [
    {
     "data": {
      "image/png": "[encoded data removed]",
      "text/plain": [
       "<Figure size 640x480 with 1 Axes>"
      ]
     },
     "metadata": {},
     "output_type": "display_data"
    }
   ],
   "source": [
    "import matplotlib.pyplot as plt\n",
    "plot_pandas = Year_ratings.plot.bar(color='khaki')\n",
    "plt.title(\"White Wine Average Vintage Rating\")\n",
    "plt.xlabel('Vintage')\n",
    "plt.ylabel('Average Rating')\n",
    "plt.ylim(3, 5)\n",
    "plt.show()"
   ]
  },
  {
   "cell_type": "code",
   "execution_count": 35,
   "metadata": {},
   "outputs": [],
   "source": [
    "Rating_price = df.groupby(\"Rating\")[\"Price\"].mean()"
   ]
  },
  {
   "cell_type": "code",
   "execution_count": 36,
   "metadata": {},
   "outputs": [
    {
     "name": "stderr",
     "output_type": "stream",
     "text": [
      "C:\\Users\\ptesk\\AppData\\Local\\Temp\\ipykernel_68\\1655338204.py:9: UserWarning: FixedFormatter should only be used together with FixedLocator\n",
      "  graph.set_xticklabels(np.exp(graph.get_xticks()).astype(int))\n"
     ]
    },
    {
     "data": {
      "image/png": "[encoded data removed]",
      "text/plain": [
       "<Figure size 1300x500 with 1 Axes>"
      ]
     },
     "metadata": {},
     "output_type": "display_data"
    }
   ],
   "source": [
    "import seaborn as sns\n",
    "plt.figure(figsize=(13,5))\n",
    "\n",
    "graph = sns.regplot(x=np.log(df['Price']), y='Rating', \n",
    "                    data=df, fit_reg=False, color='khaki')\n",
    "graph.set_title(\"White Wine Rating by Price Distribuition\", fontsize=20)\n",
    "graph.set_xlabel(\"Price (EUR)\", fontsize= 15)\n",
    "graph.set_ylabel(\"Rating\", fontsize= 15)\n",
    "graph.set_xticklabels(np.exp(graph.get_xticks()).astype(int))\n",
    "plt.savefig('White_Price.png')\n",
    "plt.show()"
   ]
  },
  {
   "cell_type": "code",
   "execution_count": 37,
   "metadata": {},
   "outputs": [
    {
     "data": {
      "text/plain": [
       "Country\n",
       "Argentina         3.762500\n",
       "Australia         3.595522\n",
       "Austria           3.825514\n",
       "Brazil            3.316667\n",
       "Canada            3.700000\n",
       "Chile             3.580808\n",
       "China             3.350000\n",
       "Croatia           4.075000\n",
       "Czech Republic    4.050000\n",
       "France            3.881317\n",
       "Georgia           3.875000\n",
       "Germany           3.895495\n",
       "Greece            3.750000\n",
       "Hungary           3.700000\n",
       "Israel            3.762500\n",
       "Italy             3.797598\n",
       "Lebanon           3.800000\n",
       "Luxembourg        3.840000\n",
       "Moldova           4.100000\n",
       "New Zealand       3.903191\n",
       "Portugal          3.810345\n",
       "Romania           3.683333\n",
       "Slovakia          3.700000\n",
       "Slovenia          3.766667\n",
       "South Africa      3.725676\n",
       "Spain             3.759375\n",
       "Switzerland       3.809091\n",
       "Turkey            3.350000\n",
       "United States     3.742963\n",
       "Uruguay           3.600000\n",
       "Name: Rating, dtype: float64"
      ]
     },
     "execution_count": 37,
     "metadata": {},
     "output_type": "execute_result"
    }
   ],
   "source": [
    "Country_ratings = df.groupby(\"Country\")[\"Rating\"].mean()\n",
    "Country_ratings"
   ]
  },
  {
   "cell_type": "code",
   "execution_count": 44,
   "metadata": {},
   "outputs": [],
   "source": [
    "conn.close()"
   ]
  }
 ],
 "metadata": {
  "kernelspec": {
   "display_name": "base",
   "language": "python",
   "name": "python3"
  },
  "language_info": {
   "codemirror_mode": {
    "name": "ipython",
    "version": 3
   },
   "file_extension": ".py",
   "mimetype": "text/x-python",
   "name": "python",
   "nbconvert_exporter": "python",
   "pygments_lexer": "ipython3",
   "version": "3.9.13"
  },
  "orig_nbformat": 4
 },
 "nbformat": 4,
 "nbformat_minor": 2
}
